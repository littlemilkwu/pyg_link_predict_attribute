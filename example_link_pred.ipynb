{
 "cells": [
  {
   "cell_type": "code",
   "execution_count": 43,
   "metadata": {},
   "outputs": [],
   "source": [
    "# pyg-team\n",
    "# from: https://github.com/pyg-team/pytorch_geometric/blob/master/examples/link_pred.py"
   ]
  },
  {
   "cell_type": "code",
   "execution_count": 54,
   "metadata": {},
   "outputs": [
    {
     "data": {
      "text/plain": [
       "(Data(x=[2708, 1433], edge_index=[2, 8976], y=[2708], train_mask=[2708], val_mask=[2708], test_mask=[2708], edge_label=[4488], edge_label_index=[2, 4488]),\n",
       " Data(x=[2708, 1433], edge_index=[2, 8976], y=[2708], train_mask=[2708], val_mask=[2708], test_mask=[2708], edge_label=[526], edge_label_index=[2, 526]),\n",
       " Data(x=[2708, 1433], edge_index=[2, 9502], y=[2708], train_mask=[2708], val_mask=[2708], test_mask=[2708], edge_label=[1054], edge_label_index=[2, 1054]))"
      ]
     },
     "execution_count": 54,
     "metadata": {},
     "output_type": "execute_result"
    }
   ],
   "source": [
    "\n",
    "import os.path as osp\n",
    "\n",
    "import torch\n",
    "from sklearn.metrics import roc_auc_score\n",
    "\n",
    "import torch_geometric.transforms as T\n",
    "from torch_geometric.datasets import Planetoid\n",
    "from torch_geometric.nn import GCNConv\n",
    "from torch_geometric.utils import negative_sampling\n",
    "\n",
    "device = torch.device('cuda' if torch.cuda.is_available() else 'cpu')\n",
    "transform = T.Compose([\n",
    "    T.NormalizeFeatures(),\n",
    "    T.ToDevice(device),\n",
    "    T.RandomLinkSplit(num_val=0.05, num_test=0.1, is_undirected=True,\n",
    "                      add_negative_train_samples=False),\n",
    "])\n",
    "# path = osp.join(osp.dirname(osp.realpath(__file__)), '..', 'data', 'Planetoid')\n",
    "path = 'Planetoid'\n",
    "dataset = Planetoid(path, name='Cora', transform=transform)\n",
    "dataset[0]\n",
    "# After applying the `RandomLinkSplit` transform, the data is transformed from\n",
    "# a data object to a list of tuples (train_data, val_data, test_data), with\n",
    "# each element representing the corresponding split.\n",
    "\n",
    "# train_data, val_data, test_data = dataset[0]\n"
   ]
  },
  {
   "cell_type": "code",
   "execution_count": 53,
   "metadata": {},
   "outputs": [
    {
     "data": {
      "text/plain": [
       "tensor([3, 4, 4,  ..., 3, 3, 3])"
      ]
     },
     "execution_count": 53,
     "metadata": {},
     "output_type": "execute_result"
    }
   ],
   "source": [
    "dataset[0]"
   ]
  },
  {
   "cell_type": "code",
   "execution_count": 42,
   "metadata": {},
   "outputs": [
    {
     "data": {
      "text/plain": [
       "(Data(x=[2708, 1433], edge_index=[2, 8976], y=[2708], train_mask=[2708], val_mask=[2708], test_mask=[2708], edge_label=[4488], edge_label_index=[2, 4488]),\n",
       " Data(x=[2708, 1433], edge_index=[2, 8976], y=[2708], train_mask=[2708], val_mask=[2708], test_mask=[2708], edge_label=[526], edge_label_index=[2, 526]),\n",
       " Data(x=[2708, 1433], edge_index=[2, 9502], y=[2708], train_mask=[2708], val_mask=[2708], test_mask=[2708], edge_label=[1054], edge_label_index=[2, 1054]))"
      ]
     },
     "execution_count": 42,
     "metadata": {},
     "output_type": "execute_result"
    }
   ],
   "source": [
    "dataset[0]"
   ]
  },
  {
   "cell_type": "code",
   "execution_count": 40,
   "metadata": {},
   "outputs": [
    {
     "data": {
      "text/plain": [
       "tensor(527., device='cuda:0')"
      ]
     },
     "execution_count": 40,
     "metadata": {},
     "output_type": "execute_result"
    }
   ],
   "source": []
  },
  {
   "cell_type": "code",
   "execution_count": 17,
   "metadata": {},
   "outputs": [
    {
     "data": {
      "text/plain": [
       "tensor([[1998, 2326],\n",
       "        [1998,  109],\n",
       "        [1998,  695],\n",
       "        [1998,  191],\n",
       "        [1998, 1781],\n",
       "        [1998, 1986]], device='cuda:0')"
      ]
     },
     "execution_count": 17,
     "metadata": {},
     "output_type": "execute_result"
    }
   ],
   "source": [
    "test_data.edge_label_index\n",
    "test_data.edge_index"
   ]
  },
  {
   "cell_type": "code",
   "execution_count": 35,
   "metadata": {},
   "outputs": [
    {
     "data": {
      "text/plain": [
       "torch.Size([2, 3696])"
      ]
     },
     "execution_count": 35,
     "metadata": {},
     "output_type": "execute_result"
    }
   ],
   "source": [
    "train_data.edge_label_index.shape"
   ]
  },
  {
   "cell_type": "code",
   "execution_count": 37,
   "metadata": {},
   "outputs": [
    {
     "data": {
      "text/plain": [
       "Data(x=[2708, 1433], edge_index=[2, 7392], y=[2708], train_mask=[2708], val_mask=[2708], test_mask=[2708], edge_label=[3696], edge_label_index=[2, 3696])"
      ]
     },
     "execution_count": 37,
     "metadata": {},
     "output_type": "execute_result"
    }
   ],
   "source": [
    "train_data"
   ]
  },
  {
   "cell_type": "code",
   "execution_count": 41,
   "metadata": {},
   "outputs": [
    {
     "data": {
      "text/plain": [
       "tensor(9, device='cuda:0')"
      ]
     },
     "execution_count": 41,
     "metadata": {},
     "output_type": "execute_result"
    }
   ],
   "source": [
    "# x\n",
    "(train_data.x[0] > 0).sum()"
   ]
  },
  {
   "cell_type": "code",
   "execution_count": 42,
   "metadata": {},
   "outputs": [
    {
     "data": {
      "text/plain": [
       "torch.Size([4488, 2])"
      ]
     },
     "execution_count": 42,
     "metadata": {},
     "output_type": "execute_result"
    }
   ],
   "source": [
    "# edge_index\n",
    "train_data.edge_label_index.T.shape"
   ]
  },
  {
   "cell_type": "code",
   "execution_count": 43,
   "metadata": {},
   "outputs": [
    {
     "data": {
      "text/plain": [
       "1433"
      ]
     },
     "execution_count": 43,
     "metadata": {},
     "output_type": "execute_result"
    }
   ],
   "source": [
    "dataset.num_features"
   ]
  },
  {
   "cell_type": "code",
   "execution_count": 44,
   "metadata": {},
   "outputs": [
    {
     "data": {
      "text/plain": [
       "tensor([1., 1., 1.,  ..., 1., 1., 1.], device='cuda:0')"
      ]
     },
     "execution_count": 44,
     "metadata": {},
     "output_type": "execute_result"
    }
   ],
   "source": [
    "train_data.edge_label"
   ]
  },
  {
   "cell_type": "code",
   "execution_count": 49,
   "metadata": {},
   "outputs": [
    {
     "data": {
      "text/plain": [
       "1433"
      ]
     },
     "execution_count": 49,
     "metadata": {},
     "output_type": "execute_result"
    }
   ],
   "source": [
    "dataset.num_features"
   ]
  },
  {
   "cell_type": "code",
   "execution_count": 35,
   "metadata": {},
   "outputs": [
    {
     "name": "stdout",
     "output_type": "stream",
     "text": [
      "Epoch: 001, Loss: 0.6930, Val: 0.6182, Test: 0.7072\n",
      "Epoch: 002, Loss: 0.6814, Val: 0.6115, Test: 0.7072\n",
      "Epoch: 003, Loss: 0.7185, Val: 0.6099, Test: 0.7150\n",
      "Epoch: 004, Loss: 0.6768, Val: 0.6180, Test: 0.7298\n",
      "Epoch: 005, Loss: 0.6855, Val: 0.6380, Test: 0.7387\n",
      "Epoch: 006, Loss: 0.6895, Val: 0.6533, Test: 0.7425\n",
      "Epoch: 007, Loss: 0.6908, Val: 0.6468, Test: 0.7295\n",
      "Epoch: 008, Loss: 0.6910, Val: 0.6335, Test: 0.7166\n",
      "Epoch: 009, Loss: 0.6904, Val: 0.6262, Test: 0.7133\n",
      "Epoch: 010, Loss: 0.6888, Val: 0.6221, Test: 0.7146\n",
      "Epoch: 011, Loss: 0.6858, Val: 0.6174, Test: 0.7139\n",
      "Epoch: 012, Loss: 0.6811, Val: 0.6097, Test: 0.7119\n",
      "Epoch: 013, Loss: 0.6774, Val: 0.6046, Test: 0.7095\n",
      "Epoch: 014, Loss: 0.6788, Val: 0.6022, Test: 0.7055\n",
      "Epoch: 015, Loss: 0.6764, Val: 0.6063, Test: 0.7028\n",
      "Epoch: 016, Loss: 0.6697, Val: 0.6196, Test: 0.7037\n",
      "Epoch: 017, Loss: 0.6650, Val: 0.6424, Test: 0.7113\n",
      "Epoch: 018, Loss: 0.6610, Val: 0.6591, Test: 0.7158\n",
      "Epoch: 019, Loss: 0.6551, Val: 0.6644, Test: 0.7123\n",
      "Epoch: 020, Loss: 0.6459, Val: 0.6656, Test: 0.7078\n",
      "Epoch: 021, Loss: 0.6365, Val: 0.6786, Test: 0.7134\n",
      "Epoch: 022, Loss: 0.6326, Val: 0.7107, Test: 0.7331\n",
      "Epoch: 023, Loss: 0.6151, Val: 0.7448, Test: 0.7517\n",
      "Epoch: 024, Loss: 0.6054, Val: 0.7556, Test: 0.7587\n",
      "Epoch: 025, Loss: 0.5990, Val: 0.7536, Test: 0.7516\n",
      "Epoch: 026, Loss: 0.5879, Val: 0.7464, Test: 0.7413\n",
      "Epoch: 027, Loss: 0.5827, Val: 0.7541, Test: 0.7460\n",
      "Epoch: 028, Loss: 0.5727, Val: 0.7539, Test: 0.7486\n",
      "Epoch: 029, Loss: 0.5705, Val: 0.7559, Test: 0.7495\n",
      "Epoch: 030, Loss: 0.5741, Val: 0.7576, Test: 0.7497\n",
      "Epoch: 031, Loss: 0.5722, Val: 0.7600, Test: 0.7534\n",
      "Epoch: 032, Loss: 0.5633, Val: 0.7625, Test: 0.7579\n",
      "Epoch: 033, Loss: 0.5663, Val: 0.7649, Test: 0.7617\n",
      "Epoch: 034, Loss: 0.5583, Val: 0.7665, Test: 0.7646\n",
      "Epoch: 035, Loss: 0.5611, Val: 0.7677, Test: 0.7674\n",
      "Epoch: 036, Loss: 0.5607, Val: 0.7731, Test: 0.7715\n",
      "Epoch: 037, Loss: 0.5537, Val: 0.7766, Test: 0.7754\n",
      "Epoch: 038, Loss: 0.5492, Val: 0.7793, Test: 0.7786\n",
      "Epoch: 039, Loss: 0.5463, Val: 0.7837, Test: 0.7825\n",
      "Epoch: 040, Loss: 0.5437, Val: 0.7880, Test: 0.7870\n",
      "Epoch: 041, Loss: 0.5405, Val: 0.7930, Test: 0.7924\n",
      "Epoch: 042, Loss: 0.5309, Val: 0.7995, Test: 0.7986\n",
      "Epoch: 043, Loss: 0.5262, Val: 0.8067, Test: 0.8061\n",
      "Epoch: 044, Loss: 0.5240, Val: 0.8140, Test: 0.8152\n",
      "Epoch: 045, Loss: 0.5249, Val: 0.8238, Test: 0.8265\n",
      "Epoch: 046, Loss: 0.5152, Val: 0.8330, Test: 0.8383\n",
      "Epoch: 047, Loss: 0.5087, Val: 0.8413, Test: 0.8484\n",
      "Epoch: 048, Loss: 0.5025, Val: 0.8479, Test: 0.8554\n",
      "Epoch: 049, Loss: 0.4925, Val: 0.8519, Test: 0.8615\n",
      "Epoch: 050, Loss: 0.4855, Val: 0.8557, Test: 0.8668\n",
      "Epoch: 051, Loss: 0.4864, Val: 0.8581, Test: 0.8711\n",
      "Epoch: 052, Loss: 0.4847, Val: 0.8596, Test: 0.8743\n",
      "Epoch: 053, Loss: 0.4780, Val: 0.8611, Test: 0.8783\n",
      "Epoch: 054, Loss: 0.4817, Val: 0.8600, Test: 0.8804\n",
      "Epoch: 055, Loss: 0.4771, Val: 0.8602, Test: 0.8817\n",
      "Epoch: 056, Loss: 0.4807, Val: 0.8604, Test: 0.8805\n",
      "Epoch: 057, Loss: 0.4774, Val: 0.8601, Test: 0.8803\n",
      "Epoch: 058, Loss: 0.4771, Val: 0.8607, Test: 0.8818\n",
      "Epoch: 059, Loss: 0.4811, Val: 0.8613, Test: 0.8821\n",
      "Epoch: 060, Loss: 0.4764, Val: 0.8633, Test: 0.8826\n",
      "Epoch: 061, Loss: 0.4725, Val: 0.8658, Test: 0.8842\n",
      "Epoch: 062, Loss: 0.4706, Val: 0.8675, Test: 0.8847\n",
      "Epoch: 063, Loss: 0.4713, Val: 0.8681, Test: 0.8850\n",
      "Epoch: 064, Loss: 0.4748, Val: 0.8676, Test: 0.8848\n",
      "Epoch: 065, Loss: 0.4684, Val: 0.8673, Test: 0.8849\n",
      "Epoch: 066, Loss: 0.4661, Val: 0.8684, Test: 0.8869\n",
      "Epoch: 067, Loss: 0.4714, Val: 0.8693, Test: 0.8891\n",
      "Epoch: 068, Loss: 0.4722, Val: 0.8705, Test: 0.8897\n",
      "Epoch: 069, Loss: 0.4650, Val: 0.8710, Test: 0.8897\n",
      "Epoch: 070, Loss: 0.4668, Val: 0.8713, Test: 0.8900\n",
      "Epoch: 071, Loss: 0.4607, Val: 0.8719, Test: 0.8919\n",
      "Epoch: 072, Loss: 0.4637, Val: 0.8732, Test: 0.8941\n",
      "Epoch: 073, Loss: 0.4627, Val: 0.8740, Test: 0.8955\n",
      "Epoch: 074, Loss: 0.4653, Val: 0.8749, Test: 0.8959\n",
      "Epoch: 075, Loss: 0.4647, Val: 0.8753, Test: 0.8959\n",
      "Epoch: 076, Loss: 0.4596, Val: 0.8761, Test: 0.8968\n",
      "Epoch: 077, Loss: 0.4663, Val: 0.8761, Test: 0.8976\n",
      "Epoch: 078, Loss: 0.4605, Val: 0.8767, Test: 0.8987\n",
      "Epoch: 079, Loss: 0.4657, Val: 0.8782, Test: 0.8995\n",
      "Epoch: 080, Loss: 0.4556, Val: 0.8790, Test: 0.8997\n",
      "Epoch: 081, Loss: 0.4685, Val: 0.8794, Test: 0.9005\n",
      "Epoch: 082, Loss: 0.4574, Val: 0.8802, Test: 0.9015\n",
      "Epoch: 083, Loss: 0.4570, Val: 0.8803, Test: 0.9022\n",
      "Epoch: 084, Loss: 0.4578, Val: 0.8812, Test: 0.9031\n",
      "Epoch: 085, Loss: 0.4539, Val: 0.8820, Test: 0.9037\n",
      "Epoch: 086, Loss: 0.4555, Val: 0.8825, Test: 0.9046\n",
      "Epoch: 087, Loss: 0.4514, Val: 0.8827, Test: 0.9059\n",
      "Epoch: 088, Loss: 0.4541, Val: 0.8832, Test: 0.9064\n",
      "Epoch: 089, Loss: 0.4526, Val: 0.8841, Test: 0.9063\n",
      "Epoch: 090, Loss: 0.4549, Val: 0.8841, Test: 0.9074\n",
      "Epoch: 091, Loss: 0.4528, Val: 0.8844, Test: 0.9094\n",
      "Epoch: 092, Loss: 0.4540, Val: 0.8856, Test: 0.9105\n",
      "Epoch: 093, Loss: 0.4562, Val: 0.8863, Test: 0.9106\n",
      "Epoch: 094, Loss: 0.4474, Val: 0.8859, Test: 0.9111\n",
      "Epoch: 095, Loss: 0.4548, Val: 0.8848, Test: 0.9114\n",
      "Epoch: 096, Loss: 0.4531, Val: 0.8853, Test: 0.9122\n",
      "Epoch: 097, Loss: 0.4517, Val: 0.8866, Test: 0.9130\n",
      "Epoch: 098, Loss: 0.4470, Val: 0.8881, Test: 0.9126\n",
      "Epoch: 099, Loss: 0.4493, Val: 0.8874, Test: 0.9125\n",
      "Epoch: 100, Loss: 0.4516, Val: 0.8871, Test: 0.9129\n",
      "Final Test: 0.9126\n"
     ]
    }
   ],
   "source": [
    "class Net(torch.nn.Module):\n",
    "    def __init__(self, in_channels, hidden_channels, out_channels):\n",
    "        super().__init__()\n",
    "        self.conv1 = GCNConv(in_channels, hidden_channels)\n",
    "        self.conv2 = GCNConv(hidden_channels, out_channels)\n",
    "\n",
    "    def encode(self, x, edge_index):\n",
    "        x = self.conv1(x, edge_index).relu()\n",
    "        return self.conv2(x, edge_index)\n",
    "\n",
    "    def decode(self, z, edge_label_index):\n",
    "        return (z[edge_label_index[0]] * z[edge_label_index[1]]).sum(dim=-1)\n",
    "\n",
    "    def decode_all(self, z):\n",
    "        prob_adj = z @ z.t()\n",
    "        return (prob_adj > 0).nonzero(as_tuple=False).t()\n",
    "\n",
    "\n",
    "model = Net(dataset.num_features, 128, 64).to(device)\n",
    "optimizer = torch.optim.Adam(params=model.parameters(), lr=0.01)\n",
    "criterion = torch.nn.BCEWithLogitsLoss()\n",
    "\n",
    "\n",
    "def train():\n",
    "    model.train()\n",
    "    optimizer.zero_grad()\n",
    "    z = model.encode(train_data.x, train_data.edge_index)\n",
    "\n",
    "    # We perform a new round of negative sampling for every training epoch:\n",
    "    neg_edge_index = negative_sampling(\n",
    "        edge_index=train_data.edge_index, num_nodes=train_data.num_nodes,\n",
    "        num_neg_samples=train_data.edge_label_index.size(1), method='sparse')\n",
    "\n",
    "    edge_label_index = torch.cat(\n",
    "        [train_data.edge_label_index, neg_edge_index],\n",
    "        dim=-1,\n",
    "    )\n",
    "    edge_label = torch.cat([\n",
    "        train_data.edge_label,\n",
    "        train_data.edge_label.new_zeros(neg_edge_index.size(1))\n",
    "    ], dim=0)\n",
    "\n",
    "    out = model.decode(z, edge_label_index).view(-1)\n",
    "    loss = criterion(out, edge_label)\n",
    "    loss.backward()\n",
    "    optimizer.step()\n",
    "    return loss\n",
    "\n",
    "\n",
    "@torch.no_grad()\n",
    "def test(data):\n",
    "    model.eval()\n",
    "    z = model.encode(data.x, data.edge_index)\n",
    "    out = model.decode(z, data.edge_label_index).view(-1).sigmoid()\n",
    "    return roc_auc_score(data.edge_label.cpu().numpy(), out.cpu().numpy())\n",
    "\n",
    "\n",
    "best_val_auc = final_test_auc = 0\n",
    "for epoch in range(1, 101):\n",
    "    loss = train()\n",
    "    val_auc = test(val_data)\n",
    "    test_auc = test(test_data)\n",
    "    if val_auc > best_val_auc:\n",
    "        best_val_auc = val_auc\n",
    "        final_test_auc = test_auc\n",
    "    print(f'Epoch: {epoch:03d}, Loss: {loss:.4f}, Val: {val_auc:.4f}, '\n",
    "          f'Test: {test_auc:.4f}')\n",
    "\n",
    "print(f'Final Test: {final_test_auc:.4f}')\n",
    "\n",
    "z = model.encode(test_data.x, test_data.edge_index)\n",
    "final_edge_index = model.decode_all(z)"
   ]
  },
  {
   "cell_type": "code",
   "execution_count": null,
   "metadata": {},
   "outputs": [],
   "source": []
  }
 ],
 "metadata": {
  "kernelspec": {
   "display_name": "jupyterhub",
   "language": "python",
   "name": "python3"
  },
  "language_info": {
   "codemirror_mode": {
    "name": "ipython",
    "version": 3
   },
   "file_extension": ".py",
   "mimetype": "text/x-python",
   "name": "python",
   "nbconvert_exporter": "python",
   "pygments_lexer": "ipython3",
   "version": "3.9.13"
  },
  "orig_nbformat": 4
 },
 "nbformat": 4,
 "nbformat_minor": 2
}
