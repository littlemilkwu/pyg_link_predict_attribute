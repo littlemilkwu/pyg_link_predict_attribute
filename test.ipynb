{
 "cells": [
  {
   "cell_type": "code",
   "execution_count": 1,
   "metadata": {},
   "outputs": [],
   "source": [
    "import numpy as np\n",
    "import pandas as pd"
   ]
  },
  {
   "cell_type": "code",
   "execution_count": 19,
   "metadata": {},
   "outputs": [
    {
     "name": "stdout",
     "output_type": "stream",
     "text": [
      "content1:  (2708, 1434)\n",
      "train edgelist:  (8686, 4)\n",
      "test edgelist shape:  (2172, 3)\n"
     ]
    }
   ],
   "source": [
    "df_content = pd.read_csv('dataset1/content.csv', sep='\\t', header=None)\n",
    "df_train = pd.read_csv('dataset1/train.csv')\n",
    "df_test = pd.read_csv('dataset1/test.csv')\n",
    "\n",
    "print('content1: ', df_content.shape)\n",
    "print('train edgelist: ', df_train.shape)\n",
    "print('test edgelist shape: ', df_test.shape)"
   ]
  },
  {
   "cell_type": "code",
   "execution_count": 14,
   "metadata": {},
   "outputs": [
    {
     "data": {
      "text/plain": [
       "20"
      ]
     },
     "execution_count": 14,
     "metadata": {},
     "output_type": "execute_result"
    }
   ],
   "source": [
    "(df_content.iloc[0, 1:] > 0).sum()"
   ]
  },
  {
   "cell_type": "code",
   "execution_count": null,
   "metadata": {},
   "outputs": [],
   "source": []
  }
 ],
 "metadata": {
  "kernelspec": {
   "display_name": "jupyterhub",
   "language": "python",
   "name": "python3"
  },
  "language_info": {
   "codemirror_mode": {
    "name": "ipython",
    "version": 3
   },
   "file_extension": ".py",
   "mimetype": "text/x-python",
   "name": "python",
   "nbconvert_exporter": "python",
   "pygments_lexer": "ipython3",
   "version": "3.9.13"
  },
  "orig_nbformat": 4
 },
 "nbformat": 4,
 "nbformat_minor": 2
}
